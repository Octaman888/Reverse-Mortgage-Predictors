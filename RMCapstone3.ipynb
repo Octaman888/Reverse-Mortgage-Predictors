{
  "nbformat": 4,
  "nbformat_minor": 0,
  "metadata": {
    "colab": {
      "name": "  RMCapstone3.ipynb",
      "provenance": [],
      "collapsed_sections": [],
      "mount_file_id": "1-tBxtA0ssVHA5ByYf1XhKzd5D817IQMX",
      "authorship_tag": "ABX9TyP1bEIQQKQ9Qz4t2g61HlXr",
      "include_colab_link": true
    },
    "kernelspec": {
      "name": "python3",
      "display_name": "Python 3"
    },
    "language_info": {
      "name": "python"
    }
  },
  "cells": [
    {
      "cell_type": "markdown",
      "metadata": {
        "id": "view-in-github",
        "colab_type": "text"
      },
      "source": [
        "<a href=\"https://colab.research.google.com/github/Octaman888/Reverse-Mortgage-Predictors/blob/main/RMCapstone3.ipynb\" target=\"_parent\"><img src=\"https://colab.research.google.com/assets/colab-badge.svg\" alt=\"Open In Colab\"/></a>"
      ]
    },
    {
      "cell_type": "code",
      "metadata": {
        "colab": {
          "base_uri": "https://localhost:8080/"
        },
        "id": "61ikMyj3GepI",
        "outputId": "7eb77579-17b1-4ab4-a540-e55ac58f9a0c"
      },
      "source": [
        "from google.colab import drive\n",
        "drive.mount('/content/drive')"
      ],
      "execution_count": 300,
      "outputs": [
        {
          "output_type": "stream",
          "name": "stdout",
          "text": [
            "Drive already mounted at /content/drive; to attempt to forcibly remount, call drive.mount(\"/content/drive\", force_remount=True).\n"
          ]
        }
      ]
    },
    {
      "cell_type": "code",
      "metadata": {
        "id": "qs0w5LyiHMxC"
      },
      "source": [
        "import numpy as np \n",
        "import pandas as pd #data frames\n",
        "from sklearn.model_selection import train_test_split #creating train and test splits\n",
        "from sklearn.metrics import confusion_matrix, classification_report # model performance for logistic\n",
        "import statsmodels.api as sm #regression models\n",
        "import statsmodels.formula.api as smf # This allows you to use formulas inside statmodels functions\n",
        "import matplotlib.pyplot as plt\n",
        "import seaborn as sns\n"
      ],
      "execution_count": 301,
      "outputs": []
    },
    {
      "cell_type": "code",
      "metadata": {
        "colab": {
          "base_uri": "https://localhost:8080/"
        },
        "id": "klblmTfsHUkd",
        "outputId": "af3f74b1-7ceb-46a6-a7a8-0cccc45f049b"
      },
      "source": [
        "loan_data = pd.read_csv(\"/content/drive/MyDrive/2020_bexar.csv\")"
      ],
      "execution_count": 302,
      "outputs": [
        {
          "output_type": "stream",
          "name": "stderr",
          "text": [
            "/usr/local/lib/python3.7/dist-packages/IPython/core/interactiveshell.py:2718: DtypeWarning: Columns (22,23,24,26,27,28,29,30,31,32,33,38,43,44) have mixed types.Specify dtype option on import or set low_memory=False.\n",
            "  interactivity=interactivity, compiler=compiler, result=result)\n"
          ]
        }
      ]
    },
    {
      "cell_type": "code",
      "metadata": {
        "colab": {
          "base_uri": "https://localhost:8080/"
        },
        "id": "rhe2JThVJQLm",
        "outputId": "806eda4a-35b0-4116-b33a-e2b99fb7a5f8"
      },
      "source": [
        "print(loan_data.columns)\n"
      ],
      "execution_count": 303,
      "outputs": [
        {
          "output_type": "stream",
          "name": "stdout",
          "text": [
            "Index(['activity_year', 'lei', 'derived_msa_md', 'state_code', 'county_code',\n",
            "       'census_tract', 'conforming_loan_limit', 'derived_loan_product_type',\n",
            "       'derived_dwelling_category', 'derived_ethnicity', 'derived_race',\n",
            "       'derived_sex', 'action_taken', 'purchaser_type', 'preapproval',\n",
            "       'loan_type', 'loan_purpose', 'lien_status', 'reverse_mortgage',\n",
            "       'open_end_line_of_credit', 'business_or_commercial_purpose',\n",
            "       'loan_amount', 'combined_loan_to_value_ratio', 'interest_rate',\n",
            "       'rate_spread', 'hoepa_status', 'total_loan_costs',\n",
            "       'total_points_and_fees', 'origination_charges', 'discount_points',\n",
            "       'lender_credits', 'loan_term', 'prepayment_penalty_term',\n",
            "       'intro_rate_period', 'negative_amortization', 'interest_only_payment',\n",
            "       'balloon_payment', 'other_nonamortizing_features', 'property_value',\n",
            "       'construction_method', 'occupancy_type',\n",
            "       'manufactured_home_secured_property_type',\n",
            "       'manufactured_home_land_property_interest', 'total_units',\n",
            "       'multifamily_affordable_units', 'income', 'debt_to_income_ratio',\n",
            "       'applicant_credit_score_type', 'co_applicant_credit_score_type',\n",
            "       'applicant_ethnicity_1', 'applicant_ethnicity_2',\n",
            "       'applicant_ethnicity_3', 'applicant_ethnicity_4',\n",
            "       'applicant_ethnicity_5', 'co_applicant_ethnicity_1',\n",
            "       'co_applicant_ethnicity_2', 'co_applicant_ethnicity_3',\n",
            "       'co_applicant_ethnicity_4', 'co_applicant_ethnicity_5',\n",
            "       'applicant_ethnicity_observed', 'co_applicant_ethnicity_observed',\n",
            "       'applicant_race_1', 'applicant_race_2', 'applicant_race_3',\n",
            "       'applicant_race_4', 'applicant_race_5', 'co_applicant_race_1',\n",
            "       'co_applicant_race_2', 'co_applicant_race_3', 'co_applicant_race_4',\n",
            "       'co_applicant_race_5', 'applicant_race_observed',\n",
            "       'co_applicant_race_observed', 'applicant_sex', 'co_applicant_sex',\n",
            "       'applicant_sex_observed', 'co_applicant_sex_observed', 'applicant_age',\n",
            "       'co_applicant_age', 'applicant_age_above_62',\n",
            "       'co_applicant_age_above_62', 'submission_of_application',\n",
            "       'initially_payable_to_institution', 'aus_1', 'aus_2', 'aus_3', 'aus_4',\n",
            "       'aus_5', 'denial_reason_1', 'denial_reason_2', 'denial_reason_3',\n",
            "       'denial_reason_4', 'tract_population',\n",
            "       'tract_minority_population_percent',\n",
            "       'ffiec_msa_md_median_family_income', 'tract_to_msa_income_percentage',\n",
            "       'tract_owner_occupied_units', 'tract_one_to_four_family_homes',\n",
            "       'tract_median_age_of_housing_units'],\n",
            "      dtype='object')\n"
          ]
        }
      ]
    },
    {
      "cell_type": "code",
      "metadata": {
        "id": "a6BnmCV-VNKc"
      },
      "source": [
        "#Transform RM column"
      ],
      "execution_count": 304,
      "outputs": []
    },
    {
      "cell_type": "code",
      "metadata": {
        "id": "MnPDj4ryVjme"
      },
      "source": [
        "loan_data_filtered = loan_data[loan_data[\"reverse_mortgage\"] != 1111]"
      ],
      "execution_count": 305,
      "outputs": []
    },
    {
      "cell_type": "code",
      "metadata": {
        "colab": {
          "base_uri": "https://localhost:8080/"
        },
        "id": "_NFf8LFbVlKj",
        "outputId": "f86c9ea6-7dd8-4c42-9a88-08099a416e54"
      },
      "source": [
        "loan_data_filtered[\"reverse_mortgage\"].value_counts()"
      ],
      "execution_count": 306,
      "outputs": [
        {
          "output_type": "execute_result",
          "data": {
            "text/plain": [
              "2    143262\n",
              "1       279\n",
              "Name: reverse_mortgage, dtype: int64"
            ]
          },
          "metadata": {},
          "execution_count": 306
        }
      ]
    },
    {
      "cell_type": "code",
      "metadata": {
        "colab": {
          "base_uri": "https://localhost:8080/",
          "height": 317
        },
        "id": "QXKHUXToKr5T",
        "outputId": "6eb5bd0f-97d7-4195-9c58-a0c39d0e9229"
      },
      "source": [
        "loan_data_filtered.describe()"
      ],
      "execution_count": 307,
      "outputs": [
        {
          "output_type": "execute_result",
          "data": {
            "text/html": [
              "<div>\n",
              "<style scoped>\n",
              "    .dataframe tbody tr th:only-of-type {\n",
              "        vertical-align: middle;\n",
              "    }\n",
              "\n",
              "    .dataframe tbody tr th {\n",
              "        vertical-align: top;\n",
              "    }\n",
              "\n",
              "    .dataframe thead th {\n",
              "        text-align: right;\n",
              "    }\n",
              "</style>\n",
              "<table border=\"1\" class=\"dataframe\">\n",
              "  <thead>\n",
              "    <tr style=\"text-align: right;\">\n",
              "      <th></th>\n",
              "      <th>activity_year</th>\n",
              "      <th>derived_msa_md</th>\n",
              "      <th>county_code</th>\n",
              "      <th>census_tract</th>\n",
              "      <th>action_taken</th>\n",
              "      <th>purchaser_type</th>\n",
              "      <th>preapproval</th>\n",
              "      <th>loan_type</th>\n",
              "      <th>loan_purpose</th>\n",
              "      <th>lien_status</th>\n",
              "      <th>reverse_mortgage</th>\n",
              "      <th>open_end_line_of_credit</th>\n",
              "      <th>business_or_commercial_purpose</th>\n",
              "      <th>loan_amount</th>\n",
              "      <th>hoepa_status</th>\n",
              "      <th>negative_amortization</th>\n",
              "      <th>interest_only_payment</th>\n",
              "      <th>balloon_payment</th>\n",
              "      <th>other_nonamortizing_features</th>\n",
              "      <th>construction_method</th>\n",
              "      <th>occupancy_type</th>\n",
              "      <th>manufactured_home_secured_property_type</th>\n",
              "      <th>manufactured_home_land_property_interest</th>\n",
              "      <th>income</th>\n",
              "      <th>applicant_credit_score_type</th>\n",
              "      <th>co_applicant_credit_score_type</th>\n",
              "      <th>applicant_ethnicity_1</th>\n",
              "      <th>applicant_ethnicity_2</th>\n",
              "      <th>applicant_ethnicity_3</th>\n",
              "      <th>applicant_ethnicity_4</th>\n",
              "      <th>applicant_ethnicity_5</th>\n",
              "      <th>co_applicant_ethnicity_1</th>\n",
              "      <th>co_applicant_ethnicity_2</th>\n",
              "      <th>co_applicant_ethnicity_3</th>\n",
              "      <th>co_applicant_ethnicity_4</th>\n",
              "      <th>co_applicant_ethnicity_5</th>\n",
              "      <th>applicant_ethnicity_observed</th>\n",
              "      <th>co_applicant_ethnicity_observed</th>\n",
              "      <th>applicant_race_1</th>\n",
              "      <th>applicant_race_2</th>\n",
              "      <th>applicant_race_3</th>\n",
              "      <th>applicant_race_4</th>\n",
              "      <th>applicant_race_5</th>\n",
              "      <th>co_applicant_race_1</th>\n",
              "      <th>co_applicant_race_2</th>\n",
              "      <th>co_applicant_race_3</th>\n",
              "      <th>co_applicant_race_4</th>\n",
              "      <th>co_applicant_race_5</th>\n",
              "      <th>applicant_race_observed</th>\n",
              "      <th>co_applicant_race_observed</th>\n",
              "      <th>applicant_sex</th>\n",
              "      <th>co_applicant_sex</th>\n",
              "      <th>applicant_sex_observed</th>\n",
              "      <th>co_applicant_sex_observed</th>\n",
              "      <th>submission_of_application</th>\n",
              "      <th>initially_payable_to_institution</th>\n",
              "      <th>aus_1</th>\n",
              "      <th>aus_2</th>\n",
              "      <th>aus_3</th>\n",
              "      <th>aus_4</th>\n",
              "      <th>aus_5</th>\n",
              "      <th>denial_reason_1</th>\n",
              "      <th>denial_reason_2</th>\n",
              "      <th>denial_reason_3</th>\n",
              "      <th>denial_reason_4</th>\n",
              "      <th>tract_population</th>\n",
              "      <th>tract_minority_population_percent</th>\n",
              "      <th>ffiec_msa_md_median_family_income</th>\n",
              "      <th>tract_to_msa_income_percentage</th>\n",
              "      <th>tract_owner_occupied_units</th>\n",
              "      <th>tract_one_to_four_family_homes</th>\n",
              "      <th>tract_median_age_of_housing_units</th>\n",
              "    </tr>\n",
              "  </thead>\n",
              "  <tbody>\n",
              "    <tr>\n",
              "      <th>count</th>\n",
              "      <td>143541.0</td>\n",
              "      <td>143541.0</td>\n",
              "      <td>143541.0</td>\n",
              "      <td>1.428630e+05</td>\n",
              "      <td>143541.000000</td>\n",
              "      <td>143541.000000</td>\n",
              "      <td>143541.000000</td>\n",
              "      <td>143541.000000</td>\n",
              "      <td>143541.000000</td>\n",
              "      <td>143541.000000</td>\n",
              "      <td>143541.000000</td>\n",
              "      <td>143541.000000</td>\n",
              "      <td>143541.000000</td>\n",
              "      <td>1.435410e+05</td>\n",
              "      <td>143541.000000</td>\n",
              "      <td>143541.000000</td>\n",
              "      <td>143541.000000</td>\n",
              "      <td>143541.000000</td>\n",
              "      <td>143541.000000</td>\n",
              "      <td>143541.000000</td>\n",
              "      <td>143541.000000</td>\n",
              "      <td>143541.000000</td>\n",
              "      <td>143541.000000</td>\n",
              "      <td>1.073970e+05</td>\n",
              "      <td>143541.000000</td>\n",
              "      <td>143541.000000</td>\n",
              "      <td>143516.000000</td>\n",
              "      <td>23497.000000</td>\n",
              "      <td>404.000000</td>\n",
              "      <td>13.000000</td>\n",
              "      <td>5.000000</td>\n",
              "      <td>143533.000000</td>\n",
              "      <td>9858.000000</td>\n",
              "      <td>155.000000</td>\n",
              "      <td>3.000000</td>\n",
              "      <td>0.0</td>\n",
              "      <td>143541.000000</td>\n",
              "      <td>143541.000000</td>\n",
              "      <td>143521.000000</td>\n",
              "      <td>5004.000000</td>\n",
              "      <td>663.000000</td>\n",
              "      <td>107.000000</td>\n",
              "      <td>16.000000</td>\n",
              "      <td>143537.000000</td>\n",
              "      <td>2178.000000</td>\n",
              "      <td>268.000000</td>\n",
              "      <td>34.000000</td>\n",
              "      <td>4.000000</td>\n",
              "      <td>143541.000000</td>\n",
              "      <td>143541.000000</td>\n",
              "      <td>143541.000000</td>\n",
              "      <td>143541.000000</td>\n",
              "      <td>143541.000000</td>\n",
              "      <td>143541.000000</td>\n",
              "      <td>143541.00000</td>\n",
              "      <td>143541.000000</td>\n",
              "      <td>143541.000000</td>\n",
              "      <td>5023.000000</td>\n",
              "      <td>1717.000000</td>\n",
              "      <td>447.000000</td>\n",
              "      <td>385.000000</td>\n",
              "      <td>143541.000000</td>\n",
              "      <td>2978.000000</td>\n",
              "      <td>302.000000</td>\n",
              "      <td>22.000000</td>\n",
              "      <td>143541.000000</td>\n",
              "      <td>143541.000000</td>\n",
              "      <td>143541.0</td>\n",
              "      <td>143541.000000</td>\n",
              "      <td>143541.000000</td>\n",
              "      <td>143541.000000</td>\n",
              "      <td>143541.000000</td>\n",
              "    </tr>\n",
              "    <tr>\n",
              "      <th>mean</th>\n",
              "      <td>2020.0</td>\n",
              "      <td>41700.0</td>\n",
              "      <td>48029.0</td>\n",
              "      <td>4.802916e+10</td>\n",
              "      <td>2.708836</td>\n",
              "      <td>5.323678</td>\n",
              "      <td>1.992796</td>\n",
              "      <td>1.726378</td>\n",
              "      <td>15.904355</td>\n",
              "      <td>1.043040</td>\n",
              "      <td>1.998056</td>\n",
              "      <td>1.976028</td>\n",
              "      <td>1.976515</td>\n",
              "      <td>2.290209e+05</td>\n",
              "      <td>2.432392</td>\n",
              "      <td>2.077190</td>\n",
              "      <td>2.062080</td>\n",
              "      <td>2.069882</td>\n",
              "      <td>2.075191</td>\n",
              "      <td>1.023429</td>\n",
              "      <td>1.112330</td>\n",
              "      <td>2.969667</td>\n",
              "      <td>4.935872</td>\n",
              "      <td>8.525844e+02</td>\n",
              "      <td>5.306644</td>\n",
              "      <td>8.438105</td>\n",
              "      <td>2.210527</td>\n",
              "      <td>11.183811</td>\n",
              "      <td>12.735149</td>\n",
              "      <td>13.307692</td>\n",
              "      <td>13.600000</td>\n",
              "      <td>3.746616</td>\n",
              "      <td>11.150639</td>\n",
              "      <td>12.264516</td>\n",
              "      <td>13.666667</td>\n",
              "      <td>NaN</td>\n",
              "      <td>2.182540</td>\n",
              "      <td>3.161153</td>\n",
              "      <td>5.269926</td>\n",
              "      <td>18.388090</td>\n",
              "      <td>22.822021</td>\n",
              "      <td>26.084112</td>\n",
              "      <td>31.687500</td>\n",
              "      <td>6.792207</td>\n",
              "      <td>19.374656</td>\n",
              "      <td>24.660448</td>\n",
              "      <td>25.176471</td>\n",
              "      <td>24.750000</td>\n",
              "      <td>2.181941</td>\n",
              "      <td>3.160818</td>\n",
              "      <td>1.764214</td>\n",
              "      <td>3.692241</td>\n",
              "      <td>2.182742</td>\n",
              "      <td>3.161550</td>\n",
              "      <td>1.35695</td>\n",
              "      <td>1.448896</td>\n",
              "      <td>3.707756</td>\n",
              "      <td>2.497113</td>\n",
              "      <td>2.231217</td>\n",
              "      <td>1.091723</td>\n",
              "      <td>1.077922</td>\n",
              "      <td>9.272166</td>\n",
              "      <td>4.252183</td>\n",
              "      <td>5.271523</td>\n",
              "      <td>6.000000</td>\n",
              "      <td>6336.435032</td>\n",
              "      <td>61.667870</td>\n",
              "      <td>72200.0</td>\n",
              "      <td>130.742324</td>\n",
              "      <td>1462.690291</td>\n",
              "      <td>1907.046690</td>\n",
              "      <td>23.329766</td>\n",
              "    </tr>\n",
              "    <tr>\n",
              "      <th>std</th>\n",
              "      <td>0.0</td>\n",
              "      <td>0.0</td>\n",
              "      <td>0.0</td>\n",
              "      <td>2.342438e+05</td>\n",
              "      <td>1.911438</td>\n",
              "      <td>16.414279</td>\n",
              "      <td>0.084568</td>\n",
              "      <td>0.863577</td>\n",
              "      <td>14.911315</td>\n",
              "      <td>0.202948</td>\n",
              "      <td>0.044045</td>\n",
              "      <td>0.152963</td>\n",
              "      <td>0.151437</td>\n",
              "      <td>4.727449e+05</td>\n",
              "      <td>0.496028</td>\n",
              "      <td>9.256145</td>\n",
              "      <td>9.257075</td>\n",
              "      <td>9.256598</td>\n",
              "      <td>9.256269</td>\n",
              "      <td>0.151262</td>\n",
              "      <td>0.449736</td>\n",
              "      <td>0.208298</td>\n",
              "      <td>0.452885</td>\n",
              "      <td>8.452177e+03</td>\n",
              "      <td>3.534350</td>\n",
              "      <td>2.563663</td>\n",
              "      <td>1.577927</td>\n",
              "      <td>1.682759</td>\n",
              "      <td>1.806152</td>\n",
              "      <td>0.751068</td>\n",
              "      <td>0.547723</td>\n",
              "      <td>1.682936</td>\n",
              "      <td>1.622021</td>\n",
              "      <td>2.126143</td>\n",
              "      <td>0.577350</td>\n",
              "      <td>NaN</td>\n",
              "      <td>0.408758</td>\n",
              "      <td>0.926053</td>\n",
              "      <td>1.945067</td>\n",
              "      <td>10.249246</td>\n",
              "      <td>11.075339</td>\n",
              "      <td>13.744379</td>\n",
              "      <td>13.098187</td>\n",
              "      <td>1.840013</td>\n",
              "      <td>9.724035</td>\n",
              "      <td>10.955836</td>\n",
              "      <td>15.617532</td>\n",
              "      <td>16.007811</td>\n",
              "      <td>0.409348</td>\n",
              "      <td>0.926938</td>\n",
              "      <td>1.013297</td>\n",
              "      <td>1.520865</td>\n",
              "      <td>0.411140</td>\n",
              "      <td>0.926364</td>\n",
              "      <td>0.72686</td>\n",
              "      <td>0.802499</td>\n",
              "      <td>2.337698</td>\n",
              "      <td>1.706788</td>\n",
              "      <td>1.313638</td>\n",
              "      <td>0.311367</td>\n",
              "      <td>0.321383</td>\n",
              "      <td>2.175760</td>\n",
              "      <td>2.816383</td>\n",
              "      <td>2.651230</td>\n",
              "      <td>2.845213</td>\n",
              "      <td>2492.870317</td>\n",
              "      <td>18.927573</td>\n",
              "      <td>0.0</td>\n",
              "      <td>52.623434</td>\n",
              "      <td>636.757282</td>\n",
              "      <td>736.338884</td>\n",
              "      <td>16.267971</td>\n",
              "    </tr>\n",
              "    <tr>\n",
              "      <th>min</th>\n",
              "      <td>2020.0</td>\n",
              "      <td>41700.0</td>\n",
              "      <td>48029.0</td>\n",
              "      <td>4.802911e+10</td>\n",
              "      <td>1.000000</td>\n",
              "      <td>0.000000</td>\n",
              "      <td>1.000000</td>\n",
              "      <td>1.000000</td>\n",
              "      <td>1.000000</td>\n",
              "      <td>1.000000</td>\n",
              "      <td>1.000000</td>\n",
              "      <td>1.000000</td>\n",
              "      <td>1.000000</td>\n",
              "      <td>5.000000e+03</td>\n",
              "      <td>1.000000</td>\n",
              "      <td>1.000000</td>\n",
              "      <td>1.000000</td>\n",
              "      <td>1.000000</td>\n",
              "      <td>1.000000</td>\n",
              "      <td>1.000000</td>\n",
              "      <td>1.000000</td>\n",
              "      <td>1.000000</td>\n",
              "      <td>1.000000</td>\n",
              "      <td>-7.840000e+02</td>\n",
              "      <td>1.000000</td>\n",
              "      <td>1.000000</td>\n",
              "      <td>1.000000</td>\n",
              "      <td>1.000000</td>\n",
              "      <td>1.000000</td>\n",
              "      <td>12.000000</td>\n",
              "      <td>13.000000</td>\n",
              "      <td>1.000000</td>\n",
              "      <td>1.000000</td>\n",
              "      <td>1.000000</td>\n",
              "      <td>13.000000</td>\n",
              "      <td>NaN</td>\n",
              "      <td>1.000000</td>\n",
              "      <td>1.000000</td>\n",
              "      <td>1.000000</td>\n",
              "      <td>1.000000</td>\n",
              "      <td>3.000000</td>\n",
              "      <td>3.000000</td>\n",
              "      <td>5.000000</td>\n",
              "      <td>1.000000</td>\n",
              "      <td>1.000000</td>\n",
              "      <td>2.000000</td>\n",
              "      <td>4.000000</td>\n",
              "      <td>5.000000</td>\n",
              "      <td>1.000000</td>\n",
              "      <td>1.000000</td>\n",
              "      <td>1.000000</td>\n",
              "      <td>1.000000</td>\n",
              "      <td>1.000000</td>\n",
              "      <td>1.000000</td>\n",
              "      <td>1.00000</td>\n",
              "      <td>1.000000</td>\n",
              "      <td>1.000000</td>\n",
              "      <td>1.000000</td>\n",
              "      <td>1.000000</td>\n",
              "      <td>1.000000</td>\n",
              "      <td>1.000000</td>\n",
              "      <td>1.000000</td>\n",
              "      <td>1.000000</td>\n",
              "      <td>1.000000</td>\n",
              "      <td>1.000000</td>\n",
              "      <td>0.000000</td>\n",
              "      <td>0.000000</td>\n",
              "      <td>72200.0</td>\n",
              "      <td>0.000000</td>\n",
              "      <td>0.000000</td>\n",
              "      <td>0.000000</td>\n",
              "      <td>0.000000</td>\n",
              "    </tr>\n",
              "    <tr>\n",
              "      <th>25%</th>\n",
              "      <td>2020.0</td>\n",
              "      <td>41700.0</td>\n",
              "      <td>48029.0</td>\n",
              "      <td>4.802913e+10</td>\n",
              "      <td>1.000000</td>\n",
              "      <td>0.000000</td>\n",
              "      <td>2.000000</td>\n",
              "      <td>1.000000</td>\n",
              "      <td>1.000000</td>\n",
              "      <td>1.000000</td>\n",
              "      <td>2.000000</td>\n",
              "      <td>2.000000</td>\n",
              "      <td>2.000000</td>\n",
              "      <td>1.450000e+05</td>\n",
              "      <td>2.000000</td>\n",
              "      <td>2.000000</td>\n",
              "      <td>2.000000</td>\n",
              "      <td>2.000000</td>\n",
              "      <td>2.000000</td>\n",
              "      <td>1.000000</td>\n",
              "      <td>1.000000</td>\n",
              "      <td>3.000000</td>\n",
              "      <td>5.000000</td>\n",
              "      <td>5.600000e+01</td>\n",
              "      <td>2.000000</td>\n",
              "      <td>9.000000</td>\n",
              "      <td>1.000000</td>\n",
              "      <td>11.000000</td>\n",
              "      <td>12.000000</td>\n",
              "      <td>13.000000</td>\n",
              "      <td>13.000000</td>\n",
              "      <td>2.000000</td>\n",
              "      <td>11.000000</td>\n",
              "      <td>12.000000</td>\n",
              "      <td>13.500000</td>\n",
              "      <td>NaN</td>\n",
              "      <td>2.000000</td>\n",
              "      <td>2.000000</td>\n",
              "      <td>5.000000</td>\n",
              "      <td>5.000000</td>\n",
              "      <td>22.000000</td>\n",
              "      <td>22.000000</td>\n",
              "      <td>23.750000</td>\n",
              "      <td>5.000000</td>\n",
              "      <td>5.000000</td>\n",
              "      <td>23.000000</td>\n",
              "      <td>5.000000</td>\n",
              "      <td>18.500000</td>\n",
              "      <td>2.000000</td>\n",
              "      <td>2.000000</td>\n",
              "      <td>1.000000</td>\n",
              "      <td>2.000000</td>\n",
              "      <td>2.000000</td>\n",
              "      <td>2.000000</td>\n",
              "      <td>1.00000</td>\n",
              "      <td>1.000000</td>\n",
              "      <td>1.000000</td>\n",
              "      <td>1.000000</td>\n",
              "      <td>1.000000</td>\n",
              "      <td>1.000000</td>\n",
              "      <td>1.000000</td>\n",
              "      <td>10.000000</td>\n",
              "      <td>2.000000</td>\n",
              "      <td>4.000000</td>\n",
              "      <td>3.500000</td>\n",
              "      <td>4610.000000</td>\n",
              "      <td>47.360000</td>\n",
              "      <td>72200.0</td>\n",
              "      <td>92.000000</td>\n",
              "      <td>960.000000</td>\n",
              "      <td>1380.000000</td>\n",
              "      <td>11.000000</td>\n",
              "    </tr>\n",
              "    <tr>\n",
              "      <th>50%</th>\n",
              "      <td>2020.0</td>\n",
              "      <td>41700.0</td>\n",
              "      <td>48029.0</td>\n",
              "      <td>4.802917e+10</td>\n",
              "      <td>2.000000</td>\n",
              "      <td>0.000000</td>\n",
              "      <td>2.000000</td>\n",
              "      <td>1.000000</td>\n",
              "      <td>5.000000</td>\n",
              "      <td>1.000000</td>\n",
              "      <td>2.000000</td>\n",
              "      <td>2.000000</td>\n",
              "      <td>2.000000</td>\n",
              "      <td>2.050000e+05</td>\n",
              "      <td>2.000000</td>\n",
              "      <td>2.000000</td>\n",
              "      <td>2.000000</td>\n",
              "      <td>2.000000</td>\n",
              "      <td>2.000000</td>\n",
              "      <td>1.000000</td>\n",
              "      <td>1.000000</td>\n",
              "      <td>3.000000</td>\n",
              "      <td>5.000000</td>\n",
              "      <td>8.300000e+01</td>\n",
              "      <td>3.000000</td>\n",
              "      <td>9.000000</td>\n",
              "      <td>2.000000</td>\n",
              "      <td>11.000000</td>\n",
              "      <td>13.000000</td>\n",
              "      <td>13.000000</td>\n",
              "      <td>14.000000</td>\n",
              "      <td>5.000000</td>\n",
              "      <td>11.000000</td>\n",
              "      <td>12.000000</td>\n",
              "      <td>14.000000</td>\n",
              "      <td>NaN</td>\n",
              "      <td>2.000000</td>\n",
              "      <td>4.000000</td>\n",
              "      <td>5.000000</td>\n",
              "      <td>21.000000</td>\n",
              "      <td>23.000000</td>\n",
              "      <td>25.000000</td>\n",
              "      <td>41.000000</td>\n",
              "      <td>8.000000</td>\n",
              "      <td>23.000000</td>\n",
              "      <td>24.000000</td>\n",
              "      <td>23.500000</td>\n",
              "      <td>25.000000</td>\n",
              "      <td>2.000000</td>\n",
              "      <td>4.000000</td>\n",
              "      <td>1.000000</td>\n",
              "      <td>5.000000</td>\n",
              "      <td>2.000000</td>\n",
              "      <td>4.000000</td>\n",
              "      <td>1.00000</td>\n",
              "      <td>1.000000</td>\n",
              "      <td>5.000000</td>\n",
              "      <td>2.000000</td>\n",
              "      <td>2.000000</td>\n",
              "      <td>1.000000</td>\n",
              "      <td>1.000000</td>\n",
              "      <td>10.000000</td>\n",
              "      <td>3.000000</td>\n",
              "      <td>5.000000</td>\n",
              "      <td>6.000000</td>\n",
              "      <td>6027.000000</td>\n",
              "      <td>61.460000</td>\n",
              "      <td>72200.0</td>\n",
              "      <td>125.000000</td>\n",
              "      <td>1374.000000</td>\n",
              "      <td>1794.000000</td>\n",
              "      <td>17.000000</td>\n",
              "    </tr>\n",
              "    <tr>\n",
              "      <th>75%</th>\n",
              "      <td>2020.0</td>\n",
              "      <td>41700.0</td>\n",
              "      <td>48029.0</td>\n",
              "      <td>4.802918e+10</td>\n",
              "      <td>4.000000</td>\n",
              "      <td>2.000000</td>\n",
              "      <td>2.000000</td>\n",
              "      <td>3.000000</td>\n",
              "      <td>31.000000</td>\n",
              "      <td>1.000000</td>\n",
              "      <td>2.000000</td>\n",
              "      <td>2.000000</td>\n",
              "      <td>2.000000</td>\n",
              "      <td>2.750000e+05</td>\n",
              "      <td>3.000000</td>\n",
              "      <td>2.000000</td>\n",
              "      <td>2.000000</td>\n",
              "      <td>2.000000</td>\n",
              "      <td>2.000000</td>\n",
              "      <td>1.000000</td>\n",
              "      <td>1.000000</td>\n",
              "      <td>3.000000</td>\n",
              "      <td>5.000000</td>\n",
              "      <td>1.300000e+02</td>\n",
              "      <td>9.000000</td>\n",
              "      <td>10.000000</td>\n",
              "      <td>3.000000</td>\n",
              "      <td>11.000000</td>\n",
              "      <td>14.000000</td>\n",
              "      <td>14.000000</td>\n",
              "      <td>14.000000</td>\n",
              "      <td>5.000000</td>\n",
              "      <td>11.000000</td>\n",
              "      <td>14.000000</td>\n",
              "      <td>14.000000</td>\n",
              "      <td>NaN</td>\n",
              "      <td>2.000000</td>\n",
              "      <td>4.000000</td>\n",
              "      <td>6.000000</td>\n",
              "      <td>25.000000</td>\n",
              "      <td>25.000000</td>\n",
              "      <td>41.500000</td>\n",
              "      <td>41.000000</td>\n",
              "      <td>8.000000</td>\n",
              "      <td>25.000000</td>\n",
              "      <td>27.000000</td>\n",
              "      <td>41.750000</td>\n",
              "      <td>31.250000</td>\n",
              "      <td>2.000000</td>\n",
              "      <td>4.000000</td>\n",
              "      <td>2.000000</td>\n",
              "      <td>5.000000</td>\n",
              "      <td>2.000000</td>\n",
              "      <td>4.000000</td>\n",
              "      <td>1.00000</td>\n",
              "      <td>2.000000</td>\n",
              "      <td>6.000000</td>\n",
              "      <td>5.000000</td>\n",
              "      <td>2.000000</td>\n",
              "      <td>1.000000</td>\n",
              "      <td>1.000000</td>\n",
              "      <td>10.000000</td>\n",
              "      <td>6.000000</td>\n",
              "      <td>8.000000</td>\n",
              "      <td>9.000000</td>\n",
              "      <td>7751.000000</td>\n",
              "      <td>75.880000</td>\n",
              "      <td>72200.0</td>\n",
              "      <td>163.000000</td>\n",
              "      <td>1942.000000</td>\n",
              "      <td>2418.000000</td>\n",
              "      <td>30.000000</td>\n",
              "    </tr>\n",
              "    <tr>\n",
              "      <th>max</th>\n",
              "      <td>2020.0</td>\n",
              "      <td>41700.0</td>\n",
              "      <td>48029.0</td>\n",
              "      <td>4.809131e+10</td>\n",
              "      <td>8.000000</td>\n",
              "      <td>72.000000</td>\n",
              "      <td>2.000000</td>\n",
              "      <td>4.000000</td>\n",
              "      <td>32.000000</td>\n",
              "      <td>2.000000</td>\n",
              "      <td>2.000000</td>\n",
              "      <td>2.000000</td>\n",
              "      <td>2.000000</td>\n",
              "      <td>5.936500e+07</td>\n",
              "      <td>3.000000</td>\n",
              "      <td>1111.000000</td>\n",
              "      <td>1111.000000</td>\n",
              "      <td>1111.000000</td>\n",
              "      <td>1111.000000</td>\n",
              "      <td>2.000000</td>\n",
              "      <td>3.000000</td>\n",
              "      <td>3.000000</td>\n",
              "      <td>5.000000</td>\n",
              "      <td>1.048698e+06</td>\n",
              "      <td>9.000000</td>\n",
              "      <td>10.000000</td>\n",
              "      <td>14.000000</td>\n",
              "      <td>14.000000</td>\n",
              "      <td>14.000000</td>\n",
              "      <td>14.000000</td>\n",
              "      <td>14.000000</td>\n",
              "      <td>14.000000</td>\n",
              "      <td>14.000000</td>\n",
              "      <td>14.000000</td>\n",
              "      <td>14.000000</td>\n",
              "      <td>NaN</td>\n",
              "      <td>3.000000</td>\n",
              "      <td>4.000000</td>\n",
              "      <td>44.000000</td>\n",
              "      <td>44.000000</td>\n",
              "      <td>44.000000</td>\n",
              "      <td>44.000000</td>\n",
              "      <td>44.000000</td>\n",
              "      <td>44.000000</td>\n",
              "      <td>44.000000</td>\n",
              "      <td>44.000000</td>\n",
              "      <td>44.000000</td>\n",
              "      <td>44.000000</td>\n",
              "      <td>3.000000</td>\n",
              "      <td>4.000000</td>\n",
              "      <td>6.000000</td>\n",
              "      <td>6.000000</td>\n",
              "      <td>3.000000</td>\n",
              "      <td>4.000000</td>\n",
              "      <td>3.00000</td>\n",
              "      <td>3.000000</td>\n",
              "      <td>6.000000</td>\n",
              "      <td>5.000000</td>\n",
              "      <td>5.000000</td>\n",
              "      <td>3.000000</td>\n",
              "      <td>4.000000</td>\n",
              "      <td>10.000000</td>\n",
              "      <td>9.000000</td>\n",
              "      <td>9.000000</td>\n",
              "      <td>9.000000</td>\n",
              "      <td>12443.000000</td>\n",
              "      <td>99.590000</td>\n",
              "      <td>72200.0</td>\n",
              "      <td>341.000000</td>\n",
              "      <td>2788.000000</td>\n",
              "      <td>3301.000000</td>\n",
              "      <td>76.000000</td>\n",
              "    </tr>\n",
              "  </tbody>\n",
              "</table>\n",
              "</div>"
            ],
            "text/plain": [
              "       activity_year  ...  tract_median_age_of_housing_units\n",
              "count       143541.0  ...                      143541.000000\n",
              "mean          2020.0  ...                          23.329766\n",
              "std              0.0  ...                          16.267971\n",
              "min           2020.0  ...                           0.000000\n",
              "25%           2020.0  ...                          11.000000\n",
              "50%           2020.0  ...                          17.000000\n",
              "75%           2020.0  ...                          30.000000\n",
              "max           2020.0  ...                          76.000000\n",
              "\n",
              "[8 rows x 72 columns]"
            ]
          },
          "metadata": {},
          "execution_count": 307
        }
      ]
    },
    {
      "cell_type": "code",
      "metadata": {
        "colab": {
          "base_uri": "https://localhost:8080/"
        },
        "id": "7uvb1rYr04q5",
        "outputId": "634edd96-8a5a-438e-c0ad-92a0560af759"
      },
      "source": [
        "loan_data_filtered[\"loan_term\"].value_counts()"
      ],
      "execution_count": 308,
      "outputs": [
        {
          "output_type": "execute_result",
          "data": {
            "text/plain": [
              "360    94611\n",
              "180    15034\n",
              "360    10344\n",
              "240     5961\n",
              "120     2274\n",
              "       ...  \n",
              "556        1\n",
              "492        1\n",
              "322        1\n",
              "73         1\n",
              "548        1\n",
              "Name: loan_term, Length: 559, dtype: int64"
            ]
          },
          "metadata": {},
          "execution_count": 308
        }
      ]
    },
    {
      "cell_type": "code",
      "metadata": {
        "colab": {
          "base_uri": "https://localhost:8080/"
        },
        "id": "KFIkPBhaK-FQ",
        "outputId": "d6a2a2c4-1058-4009-e320-a86bb9e1d386"
      },
      "source": [
        "loan_data_filtered[\"loan_term\"].describe()"
      ],
      "execution_count": 309,
      "outputs": [
        {
          "output_type": "execute_result",
          "data": {
            "text/plain": [
              "count     142693\n",
              "unique       559\n",
              "top          360\n",
              "freq       94611\n",
              "Name: loan_term, dtype: object"
            ]
          },
          "metadata": {},
          "execution_count": 309
        }
      ]
    },
    {
      "cell_type": "code",
      "metadata": {
        "colab": {
          "base_uri": "https://localhost:8080/"
        },
        "id": "ApGktjorLkFK",
        "outputId": "fa8140ec-c13d-4808-94ca-9fe5f4dcfe6f"
      },
      "source": [
        "loan_data_filtered['loan_term'] = pd.to_numeric(loan_data['loan_term'], errors = 'coerce')"
      ],
      "execution_count": 310,
      "outputs": [
        {
          "output_type": "stream",
          "name": "stderr",
          "text": [
            "/usr/local/lib/python3.7/dist-packages/ipykernel_launcher.py:1: SettingWithCopyWarning: \n",
            "A value is trying to be set on a copy of a slice from a DataFrame.\n",
            "Try using .loc[row_indexer,col_indexer] = value instead\n",
            "\n",
            "See the caveats in the documentation: https://pandas.pydata.org/pandas-docs/stable/user_guide/indexing.html#returning-a-view-versus-a-copy\n",
            "  \"\"\"Entry point for launching an IPython kernel.\n"
          ]
        }
      ]
    },
    {
      "cell_type": "code",
      "metadata": {
        "id": "orHlws3T0H-Y"
      },
      "source": [
        "loan_data_filtered = loan_data[loan_data[\"loan_term\"] != \"NA\"]"
      ],
      "execution_count": 311,
      "outputs": []
    },
    {
      "cell_type": "code",
      "metadata": {
        "id": "5vVJ-wOY1upY"
      },
      "source": [
        "loan_data_filtered = loan_data[loan_data[\"loan_term\"] != \"Exempt\"]"
      ],
      "execution_count": 312,
      "outputs": []
    },
    {
      "cell_type": "code",
      "metadata": {
        "colab": {
          "base_uri": "https://localhost:8080/"
        },
        "id": "mARZf7boLHX7",
        "outputId": "e9cbe1bc-62ef-491e-ebd8-18310e17d079"
      },
      "source": [
        "loan_data_filtered[\"loan_term\"].describe()"
      ],
      "execution_count": 313,
      "outputs": [
        {
          "output_type": "execute_result",
          "data": {
            "text/plain": [
              "count     142693\n",
              "unique       559\n",
              "top          360\n",
              "freq       94611\n",
              "Name: loan_term, dtype: object"
            ]
          },
          "metadata": {},
          "execution_count": 313
        }
      ]
    },
    {
      "cell_type": "code",
      "metadata": {
        "colab": {
          "base_uri": "https://localhost:8080/"
        },
        "id": "H_1nqWFl1tDu",
        "outputId": "5b59a603-7ce8-4d88-daee-13a6875592ed"
      },
      "source": [
        "loan_data_filtered[\"loan_term\"].value_counts()"
      ],
      "execution_count": 314,
      "outputs": [
        {
          "output_type": "execute_result",
          "data": {
            "text/plain": [
              "360    94611\n",
              "180    15034\n",
              "360    10344\n",
              "240     5961\n",
              "120     2274\n",
              "       ...  \n",
              "556        1\n",
              "492        1\n",
              "322        1\n",
              "73         1\n",
              "548        1\n",
              "Name: loan_term, Length: 559, dtype: int64"
            ]
          },
          "metadata": {},
          "execution_count": 314
        }
      ]
    },
    {
      "cell_type": "code",
      "metadata": {
        "id": "H0_-JLkDPQXh"
      },
      "source": [
        "#Pull relavent available information from loan_data to Reverse Mortgages (RM) from data"
      ],
      "execution_count": 315,
      "outputs": []
    },
    {
      "cell_type": "code",
      "metadata": {
        "colab": {
          "base_uri": "https://localhost:8080/",
          "height": 419
        },
        "id": "DSKJmn4lHW1o",
        "outputId": "88091de9-1a6c-4b47-aa48-513b56608862"
      },
      "source": [
        "RM = loan_data_filtered[['census_tract','reverse_mortgage','open_end_line_of_credit','loan_amount','property_value','income', 'loan_term','applicant_age','lien_status','tract_population']]\n",
        "RM"
      ],
      "execution_count": 316,
      "outputs": [
        {
          "output_type": "execute_result",
          "data": {
            "text/html": [
              "<div>\n",
              "<style scoped>\n",
              "    .dataframe tbody tr th:only-of-type {\n",
              "        vertical-align: middle;\n",
              "    }\n",
              "\n",
              "    .dataframe tbody tr th {\n",
              "        vertical-align: top;\n",
              "    }\n",
              "\n",
              "    .dataframe thead th {\n",
              "        text-align: right;\n",
              "    }\n",
              "</style>\n",
              "<table border=\"1\" class=\"dataframe\">\n",
              "  <thead>\n",
              "    <tr style=\"text-align: right;\">\n",
              "      <th></th>\n",
              "      <th>census_tract</th>\n",
              "      <th>reverse_mortgage</th>\n",
              "      <th>open_end_line_of_credit</th>\n",
              "      <th>loan_amount</th>\n",
              "      <th>property_value</th>\n",
              "      <th>income</th>\n",
              "      <th>loan_term</th>\n",
              "      <th>applicant_age</th>\n",
              "      <th>lien_status</th>\n",
              "      <th>tract_population</th>\n",
              "    </tr>\n",
              "  </thead>\n",
              "  <tbody>\n",
              "    <tr>\n",
              "      <th>0</th>\n",
              "      <td>4.802917e+10</td>\n",
              "      <td>2</td>\n",
              "      <td>2</td>\n",
              "      <td>335000</td>\n",
              "      <td>425000</td>\n",
              "      <td>345.0</td>\n",
              "      <td>360</td>\n",
              "      <td>45-54</td>\n",
              "      <td>1</td>\n",
              "      <td>7751</td>\n",
              "    </tr>\n",
              "    <tr>\n",
              "      <th>1</th>\n",
              "      <td>4.802918e+10</td>\n",
              "      <td>2</td>\n",
              "      <td>2</td>\n",
              "      <td>325000</td>\n",
              "      <td>425000</td>\n",
              "      <td>294.0</td>\n",
              "      <td>360</td>\n",
              "      <td>35-44</td>\n",
              "      <td>1</td>\n",
              "      <td>4610</td>\n",
              "    </tr>\n",
              "    <tr>\n",
              "      <th>2</th>\n",
              "      <td>4.802912e+10</td>\n",
              "      <td>2</td>\n",
              "      <td>2</td>\n",
              "      <td>215000</td>\n",
              "      <td>215000</td>\n",
              "      <td>NaN</td>\n",
              "      <td>360</td>\n",
              "      <td>35-44</td>\n",
              "      <td>1</td>\n",
              "      <td>4664</td>\n",
              "    </tr>\n",
              "    <tr>\n",
              "      <th>3</th>\n",
              "      <td>4.802919e+10</td>\n",
              "      <td>2</td>\n",
              "      <td>2</td>\n",
              "      <td>315000</td>\n",
              "      <td>475000</td>\n",
              "      <td>225.0</td>\n",
              "      <td>360</td>\n",
              "      <td>35-44</td>\n",
              "      <td>1</td>\n",
              "      <td>11921</td>\n",
              "    </tr>\n",
              "    <tr>\n",
              "      <th>4</th>\n",
              "      <td>4.802916e+10</td>\n",
              "      <td>2</td>\n",
              "      <td>2</td>\n",
              "      <td>185000</td>\n",
              "      <td>185000</td>\n",
              "      <td>95.0</td>\n",
              "      <td>360</td>\n",
              "      <td>35-44</td>\n",
              "      <td>1</td>\n",
              "      <td>7623</td>\n",
              "    </tr>\n",
              "    <tr>\n",
              "      <th>...</th>\n",
              "      <td>...</td>\n",
              "      <td>...</td>\n",
              "      <td>...</td>\n",
              "      <td>...</td>\n",
              "      <td>...</td>\n",
              "      <td>...</td>\n",
              "      <td>...</td>\n",
              "      <td>...</td>\n",
              "      <td>...</td>\n",
              "      <td>...</td>\n",
              "    </tr>\n",
              "    <tr>\n",
              "      <th>145268</th>\n",
              "      <td>4.802919e+10</td>\n",
              "      <td>2</td>\n",
              "      <td>2</td>\n",
              "      <td>345000</td>\n",
              "      <td>535000</td>\n",
              "      <td>216.0</td>\n",
              "      <td>360</td>\n",
              "      <td>35-44</td>\n",
              "      <td>1</td>\n",
              "      <td>4886</td>\n",
              "    </tr>\n",
              "    <tr>\n",
              "      <th>145269</th>\n",
              "      <td>4.802919e+10</td>\n",
              "      <td>2</td>\n",
              "      <td>2</td>\n",
              "      <td>505000</td>\n",
              "      <td>705000</td>\n",
              "      <td>181.0</td>\n",
              "      <td>180</td>\n",
              "      <td>35-44</td>\n",
              "      <td>1</td>\n",
              "      <td>7042</td>\n",
              "    </tr>\n",
              "    <tr>\n",
              "      <th>145270</th>\n",
              "      <td>4.802919e+10</td>\n",
              "      <td>2</td>\n",
              "      <td>2</td>\n",
              "      <td>285000</td>\n",
              "      <td>405000</td>\n",
              "      <td>120.0</td>\n",
              "      <td>360</td>\n",
              "      <td>45-54</td>\n",
              "      <td>1</td>\n",
              "      <td>11921</td>\n",
              "    </tr>\n",
              "    <tr>\n",
              "      <th>145271</th>\n",
              "      <td>4.802918e+10</td>\n",
              "      <td>2</td>\n",
              "      <td>2</td>\n",
              "      <td>295000</td>\n",
              "      <td>375000</td>\n",
              "      <td>132.0</td>\n",
              "      <td>360</td>\n",
              "      <td>35-44</td>\n",
              "      <td>1</td>\n",
              "      <td>9504</td>\n",
              "    </tr>\n",
              "    <tr>\n",
              "      <th>145272</th>\n",
              "      <td>4.802918e+10</td>\n",
              "      <td>2</td>\n",
              "      <td>2</td>\n",
              "      <td>335000</td>\n",
              "      <td>375000</td>\n",
              "      <td>139.0</td>\n",
              "      <td>360</td>\n",
              "      <td>45-54</td>\n",
              "      <td>1</td>\n",
              "      <td>2491</td>\n",
              "    </tr>\n",
              "  </tbody>\n",
              "</table>\n",
              "<p>143541 rows × 10 columns</p>\n",
              "</div>"
            ],
            "text/plain": [
              "        census_tract  reverse_mortgage  ...  lien_status  tract_population\n",
              "0       4.802917e+10                 2  ...            1              7751\n",
              "1       4.802918e+10                 2  ...            1              4610\n",
              "2       4.802912e+10                 2  ...            1              4664\n",
              "3       4.802919e+10                 2  ...            1             11921\n",
              "4       4.802916e+10                 2  ...            1              7623\n",
              "...              ...               ...  ...          ...               ...\n",
              "145268  4.802919e+10                 2  ...            1              4886\n",
              "145269  4.802919e+10                 2  ...            1              7042\n",
              "145270  4.802919e+10                 2  ...            1             11921\n",
              "145271  4.802918e+10                 2  ...            1              9504\n",
              "145272  4.802918e+10                 2  ...            1              2491\n",
              "\n",
              "[143541 rows x 10 columns]"
            ]
          },
          "metadata": {},
          "execution_count": 316
        }
      ]
    },
    {
      "cell_type": "code",
      "metadata": {
        "colab": {
          "base_uri": "https://localhost:8080/"
        },
        "id": "jS3B75dpPAPR",
        "outputId": "c6db219e-a907-4bb9-efdb-f5e31a2839b4"
      },
      "source": [
        "RM.shape"
      ],
      "execution_count": 317,
      "outputs": [
        {
          "output_type": "execute_result",
          "data": {
            "text/plain": [
              "(143541, 10)"
            ]
          },
          "metadata": {},
          "execution_count": 317
        }
      ]
    },
    {
      "cell_type": "code",
      "metadata": {
        "colab": {
          "base_uri": "https://localhost:8080/"
        },
        "id": "oqYSZ_H-WOed",
        "outputId": "2bc458d5-804c-4d9a-9d8c-a1edb1a952c3"
      },
      "source": [
        "RM[\"reverse_mortgage\"].value_counts()"
      ],
      "execution_count": 318,
      "outputs": [
        {
          "output_type": "execute_result",
          "data": {
            "text/plain": [
              "2    143262\n",
              "1       279\n",
              "Name: reverse_mortgage, dtype: int64"
            ]
          },
          "metadata": {},
          "execution_count": 318
        }
      ]
    },
    {
      "cell_type": "code",
      "metadata": {
        "colab": {
          "base_uri": "https://localhost:8080/"
        },
        "id": "-Emq-yr3NdwW",
        "outputId": "c80e7580-f84e-4b6b-d3ef-701296db9f4d"
      },
      "source": [
        "RM[\"census_tract\"].value_counts()"
      ],
      "execution_count": 319,
      "outputs": [
        {
          "output_type": "execute_result",
          "data": {
            "text/plain": [
              "4.802917e+10    5674\n",
              "4.802912e+10    3773\n",
              "4.802918e+10    3236\n",
              "4.802918e+10    2878\n",
              "4.802917e+10    2535\n",
              "                ... \n",
              "4.802998e+10       3\n",
              "4.809131e+10       2\n",
              "4.802998e+10       2\n",
              "4.802913e+10       1\n",
              "4.802998e+10       1\n",
              "Name: census_tract, Length: 366, dtype: int64"
            ]
          },
          "metadata": {},
          "execution_count": 319
        }
      ]
    },
    {
      "cell_type": "code",
      "metadata": {
        "colab": {
          "base_uri": "https://localhost:8080/"
        },
        "id": "y0q0gyDeNlR0",
        "outputId": "2beaec8a-52ee-4890-e3cb-af3a26ae5a16"
      },
      "source": [
        "RM[\"open_end_line_of_credit\"].value_counts()"
      ],
      "execution_count": 320,
      "outputs": [
        {
          "output_type": "execute_result",
          "data": {
            "text/plain": [
              "2    140100\n",
              "1      3441\n",
              "Name: open_end_line_of_credit, dtype: int64"
            ]
          },
          "metadata": {},
          "execution_count": 320
        }
      ]
    },
    {
      "cell_type": "code",
      "metadata": {
        "colab": {
          "base_uri": "https://localhost:8080/"
        },
        "id": "avYnCynUNxIb",
        "outputId": "e99d0a0f-ca8d-45e3-cb73-cfebd6533bb6"
      },
      "source": [
        "RM[\"loan_amount\"].value_counts()"
      ],
      "execution_count": 321,
      "outputs": [
        {
          "output_type": "execute_result",
          "data": {
            "text/plain": [
              "185000      6522\n",
              "205000      6469\n",
              "195000      6255\n",
              "175000      5982\n",
              "215000      5976\n",
              "            ... \n",
              "3185000        1\n",
              "10565000       1\n",
              "2045000        1\n",
              "10335000       1\n",
              "1805000        1\n",
              "Name: loan_amount, Length: 289, dtype: int64"
            ]
          },
          "metadata": {},
          "execution_count": 321
        }
      ]
    },
    {
      "cell_type": "code",
      "metadata": {
        "colab": {
          "base_uri": "https://localhost:8080/"
        },
        "id": "HNedCq5ZN3sm",
        "outputId": "e1cbe526-d8a9-41de-8e38-f9c4ba0cf570"
      },
      "source": [
        "RM[\"property_value\"].value_counts()"
      ],
      "execution_count": 322,
      "outputs": [
        {
          "output_type": "execute_result",
          "data": {
            "text/plain": [
              "215000      4531\n",
              "225000      4496\n",
              "205000      4477\n",
              "185000      4408\n",
              "195000      4295\n",
              "            ... \n",
              "2545000        1\n",
              "24805000       1\n",
              "19585000       1\n",
              "2255000        1\n",
              "3255000        1\n",
              "Name: property_value, Length: 449, dtype: int64"
            ]
          },
          "metadata": {},
          "execution_count": 322
        }
      ]
    },
    {
      "cell_type": "code",
      "metadata": {
        "colab": {
          "base_uri": "https://localhost:8080/"
        },
        "id": "RbsMHRMtOBR4",
        "outputId": "0ce64a2b-1d31-4c66-b2fd-d7486a6d23d5"
      },
      "source": [
        "RM[\"income\"].value_counts()"
      ],
      "execution_count": 323,
      "outputs": [
        {
          "output_type": "execute_result",
          "data": {
            "text/plain": [
              "0.0         2630\n",
              "60.0        1400\n",
              "54.0        1186\n",
              "65.0        1183\n",
              "55.0        1181\n",
              "            ... \n",
              "57899.0        1\n",
              "41520.0        1\n",
              "57914.0        1\n",
              "166177.0       1\n",
              "57000.0        1\n",
              "Name: income, Length: 1868, dtype: int64"
            ]
          },
          "metadata": {},
          "execution_count": 323
        }
      ]
    },
    {
      "cell_type": "code",
      "metadata": {
        "colab": {
          "base_uri": "https://localhost:8080/"
        },
        "id": "-TZyZ1IuOWWp",
        "outputId": "a177369b-2fd7-41b8-e559-586c0f76c296"
      },
      "source": [
        "RM[\"loan_term\"].value_counts()"
      ],
      "execution_count": 324,
      "outputs": [
        {
          "output_type": "execute_result",
          "data": {
            "text/plain": [
              "360    94611\n",
              "180    15034\n",
              "360    10344\n",
              "240     5961\n",
              "120     2274\n",
              "       ...  \n",
              "556        1\n",
              "492        1\n",
              "322        1\n",
              "73         1\n",
              "548        1\n",
              "Name: loan_term, Length: 559, dtype: int64"
            ]
          },
          "metadata": {},
          "execution_count": 324
        }
      ]
    },
    {
      "cell_type": "code",
      "metadata": {
        "colab": {
          "base_uri": "https://localhost:8080/"
        },
        "id": "NTs1NQHYOhXn",
        "outputId": "3e6e29a5-addc-43b7-94bc-e91c2d9d3434"
      },
      "source": [
        "RM[\"applicant_age\"].value_counts()"
      ],
      "execution_count": 325,
      "outputs": [
        {
          "output_type": "execute_result",
          "data": {
            "text/plain": [
              "35-44    35650\n",
              "25-34    30527\n",
              "45-54    27231\n",
              "55-64    18177\n",
              "8888     15143\n",
              "65-74     9735\n",
              "<25       3915\n",
              ">74       3163\n",
              "Name: applicant_age, dtype: int64"
            ]
          },
          "metadata": {},
          "execution_count": 325
        }
      ]
    },
    {
      "cell_type": "code",
      "metadata": {
        "colab": {
          "base_uri": "https://localhost:8080/"
        },
        "id": "RrlSV-MuOreR",
        "outputId": "2d9524ad-899b-4956-dae8-ced57cea026d"
      },
      "source": [
        "RM[\"lien_status\"].value_counts()"
      ],
      "execution_count": 326,
      "outputs": [
        {
          "output_type": "execute_result",
          "data": {
            "text/plain": [
              "1    137363\n",
              "2      6178\n",
              "Name: lien_status, dtype: int64"
            ]
          },
          "metadata": {},
          "execution_count": 326
        }
      ]
    },
    {
      "cell_type": "code",
      "metadata": {
        "colab": {
          "base_uri": "https://localhost:8080/"
        },
        "id": "uJOrs4QcO8Dq",
        "outputId": "099c3aaa-140a-47f0-8f29-03457c51847d"
      },
      "source": [
        "RM[\"tract_population\"].value_counts()"
      ],
      "execution_count": 327,
      "outputs": [
        {
          "output_type": "execute_result",
          "data": {
            "text/plain": [
              "10857    5674\n",
              "10923    3773\n",
              "2385     3236\n",
              "7597     2878\n",
              "5554     2603\n",
              "         ... \n",
              "7714        4\n",
              "6824        2\n",
              "520         2\n",
              "1120        1\n",
              "1332        1\n",
              "Name: tract_population, Length: 352, dtype: int64"
            ]
          },
          "metadata": {},
          "execution_count": 327
        }
      ]
    },
    {
      "cell_type": "code",
      "metadata": {
        "colab": {
          "base_uri": "https://localhost:8080/"
        },
        "id": "1QcTWAKQNLiD",
        "outputId": "a2ebf192-e87c-415a-be52-32795387cc43"
      },
      "source": [
        "RM['property_value'].describe "
      ],
      "execution_count": 328,
      "outputs": [
        {
          "output_type": "execute_result",
          "data": {
            "text/plain": [
              "<bound method NDFrame.describe of 0         425000\n",
              "1         425000\n",
              "2         215000\n",
              "3         475000\n",
              "4         185000\n",
              "           ...  \n",
              "145268    535000\n",
              "145269    705000\n",
              "145270    405000\n",
              "145271    375000\n",
              "145272    375000\n",
              "Name: property_value, Length: 143541, dtype: object>"
            ]
          },
          "metadata": {},
          "execution_count": 328
        }
      ]
    },
    {
      "cell_type": "code",
      "metadata": {
        "colab": {
          "base_uri": "https://localhost:8080/"
        },
        "id": "APy6K7tRiVm9",
        "outputId": "20600179-44c4-4e3e-9580-859246118515"
      },
      "source": [
        "RM['property_value'] = pd.to_numeric(RM['property_value'], errors = 'coerce')"
      ],
      "execution_count": 329,
      "outputs": [
        {
          "output_type": "stream",
          "name": "stderr",
          "text": [
            "/usr/local/lib/python3.7/dist-packages/ipykernel_launcher.py:1: SettingWithCopyWarning: \n",
            "A value is trying to be set on a copy of a slice from a DataFrame.\n",
            "Try using .loc[row_indexer,col_indexer] = value instead\n",
            "\n",
            "See the caveats in the documentation: https://pandas.pydata.org/pandas-docs/stable/user_guide/indexing.html#returning-a-view-versus-a-copy\n",
            "  \"\"\"Entry point for launching an IPython kernel.\n"
          ]
        }
      ]
    },
    {
      "cell_type": "code",
      "metadata": {
        "colab": {
          "base_uri": "https://localhost:8080/"
        },
        "id": "eRpp489Qi8az",
        "outputId": "7504366a-acb9-4ca8-ddff-a0deb96ca91f"
      },
      "source": [
        "RM['property_value'].mean()"
      ],
      "execution_count": 330,
      "outputs": [
        {
          "output_type": "execute_result",
          "data": {
            "text/plain": [
              "303789.944319301"
            ]
          },
          "metadata": {},
          "execution_count": 330
        }
      ]
    },
    {
      "cell_type": "code",
      "metadata": {
        "colab": {
          "base_uri": "https://localhost:8080/"
        },
        "id": "3Bf4TvWvjMq5",
        "outputId": "c5a90738-d0ec-434e-8a6e-fcda4122dfb6"
      },
      "source": [
        "RM['property_value'].value_counts()"
      ],
      "execution_count": 331,
      "outputs": [
        {
          "output_type": "execute_result",
          "data": {
            "text/plain": [
              "215000.0      4787\n",
              "205000.0      4781\n",
              "225000.0      4765\n",
              "185000.0      4689\n",
              "195000.0      4551\n",
              "              ... \n",
              "29305000.0       1\n",
              "58505000.0       1\n",
              "1815000.0        1\n",
              "58005000.0       1\n",
              "6295000.0        1\n",
              "Name: property_value, Length: 333, dtype: int64"
            ]
          },
          "metadata": {},
          "execution_count": 331
        }
      ]
    },
    {
      "cell_type": "code",
      "metadata": {
        "colab": {
          "base_uri": "https://localhost:8080/"
        },
        "id": "jqRU37UBFkZF",
        "outputId": "01098d4f-122d-4634-c155-4771e19b0c51"
      },
      "source": [
        "RM.isnull().sum()"
      ],
      "execution_count": 332,
      "outputs": [
        {
          "output_type": "execute_result",
          "data": {
            "text/plain": [
              "census_tract                 678\n",
              "reverse_mortgage               0\n",
              "open_end_line_of_credit        0\n",
              "loan_amount                    0\n",
              "property_value             40992\n",
              "income                     36144\n",
              "loan_term                    848\n",
              "applicant_age                  0\n",
              "lien_status                    0\n",
              "tract_population               0\n",
              "dtype: int64"
            ]
          },
          "metadata": {},
          "execution_count": 332
        }
      ]
    },
    {
      "cell_type": "code",
      "metadata": {
        "colab": {
          "base_uri": "https://localhost:8080/"
        },
        "id": "QvuSjdRuyck0",
        "outputId": "5990f034-add5-4b73-89ef-eb6b7df0b024"
      },
      "source": [
        "RM[\"reverse_mortgage\"].value_counts()"
      ],
      "execution_count": 333,
      "outputs": [
        {
          "output_type": "execute_result",
          "data": {
            "text/plain": [
              "2    143262\n",
              "1       279\n",
              "Name: reverse_mortgage, dtype: int64"
            ]
          },
          "metadata": {},
          "execution_count": 333
        }
      ]
    },
    {
      "cell_type": "code",
      "metadata": {
        "id": "R9diEeoAy--l"
      },
      "source": [
        "#RM = RM.dropna(subset=['loan_term','property_value','income']) \"\"\"Cannot use \"dropna\" or \"dropna subsets\" without eliminating all data on reverse mortgages as RM data is a very small % of tottal data\"\"\""
      ],
      "execution_count": 334,
      "outputs": []
    },
    {
      "cell_type": "code",
      "metadata": {
        "colab": {
          "base_uri": "https://localhost:8080/"
        },
        "id": "F7DOdgwuP5Ok",
        "outputId": "6f9de729-df3b-4d96-eb65-ca17d8a9bcc2"
      },
      "source": [
        "RM[\"reverse_mortgage\"].value_counts()"
      ],
      "execution_count": 335,
      "outputs": [
        {
          "output_type": "execute_result",
          "data": {
            "text/plain": [
              "2    143262\n",
              "1       279\n",
              "Name: reverse_mortgage, dtype: int64"
            ]
          },
          "metadata": {},
          "execution_count": 335
        }
      ]
    },
    {
      "cell_type": "code",
      "metadata": {
        "colab": {
          "base_uri": "https://localhost:8080/"
        },
        "id": "TwbIdNFd5c_c",
        "outputId": "417518b8-aaa9-4d9e-a905-26738d549466"
      },
      "source": [
        "RM.value_counts()"
      ],
      "execution_count": 336,
      "outputs": [
        {
          "output_type": "execute_result",
          "data": {
            "text/plain": [
              "census_tract  reverse_mortgage  open_end_line_of_credit  loan_amount  property_value  income  loan_term  applicant_age  lien_status  tract_population\n",
              "4.802913e+10  2                 2                        165000       165000.0        40.0    360        25-34          1            7160                5\n",
              "4.802917e+10  2                 2                        275000       265000.0        71.0    360        25-34          1            10857               4\n",
              "4.802913e+10  2                 2                        165000       225000.0        400.0   360        35-44          1            4131                4\n",
              "4.802912e+10  2                 2                        145000       235000.0        313.0   360        35-44          1            4750                4\n",
              "                                                         275000       275000.0        68.0    360        25-34          1            4840                4\n",
              "                                                                                                                                                        ..\n",
              "4.802918e+10  2                 2                        215000       265000.0        182.0   180        45-54          1            5691                1\n",
              "                                                                      275000.0        46.0    360        25-34          1            5691                1\n",
              "                                                                                      61.0    360        45-54          1            5691                1\n",
              "                                                                                      66.0    360        45-54          1            5691                1\n",
              "4.802911e+10  2                 1                        45000        265000.0        70.0    180        55-64          1            3347                1\n",
              "Length: 76690, dtype: int64"
            ]
          },
          "metadata": {},
          "execution_count": 336
        }
      ]
    },
    {
      "cell_type": "code",
      "metadata": {
        "id": "hRfFpJhOevzg"
      },
      "source": [
        "RM.to_csv(\"/content/drive/MyDrive/2020_bexar_clean.csv\")"
      ],
      "execution_count": 337,
      "outputs": []
    },
    {
      "cell_type": "code",
      "metadata": {
        "id": "R-pbglN82xv5"
      },
      "source": [
        "#Logistic Regression Model"
      ],
      "execution_count": 338,
      "outputs": []
    },
    {
      "cell_type": "code",
      "metadata": {
        "id": "PQLfTnwyPTI8"
      },
      "source": [
        "lm1 = smf.ols(\"reverse_mortgage ~ census_tract + loan_amount + applicant_age + property_value + tract_population\" , data=RM).fit()"
      ],
      "execution_count": 339,
      "outputs": []
    },
    {
      "cell_type": "code",
      "metadata": {
        "colab": {
          "base_uri": "https://localhost:8080/",
          "height": 688
        },
        "id": "qDep-1t-QL0U",
        "outputId": "2e988901-484d-4bab-f23f-c19629b8c191"
      },
      "source": [
        "lm1.summary()"
      ],
      "execution_count": 340,
      "outputs": [
        {
          "output_type": "execute_result",
          "data": {
            "text/html": [
              "<table class=\"simpletable\">\n",
              "<caption>OLS Regression Results</caption>\n",
              "<tr>\n",
              "  <th>Dep. Variable:</th>    <td>reverse_mortgage</td> <th>  R-squared:         </th>  <td>   0.020</td> \n",
              "</tr>\n",
              "<tr>\n",
              "  <th>Model:</th>                   <td>OLS</td>       <th>  Adj. R-squared:    </th>  <td>   0.020</td> \n",
              "</tr>\n",
              "<tr>\n",
              "  <th>Method:</th>             <td>Least Squares</td>  <th>  F-statistic:       </th>  <td>   210.2</td> \n",
              "</tr>\n",
              "<tr>\n",
              "  <th>Date:</th>             <td>Thu, 11 Nov 2021</td> <th>  Prob (F-statistic):</th>   <td>  0.00</td>  \n",
              "</tr>\n",
              "<tr>\n",
              "  <th>Time:</th>                 <td>04:41:30</td>     <th>  Log-Likelihood:    </th> <td>1.7384e+05</td>\n",
              "</tr>\n",
              "<tr>\n",
              "  <th>No. Observations:</th>      <td>102108</td>      <th>  AIC:               </th> <td>-3.477e+05</td>\n",
              "</tr>\n",
              "<tr>\n",
              "  <th>Df Residuals:</th>          <td>102097</td>      <th>  BIC:               </th> <td>-3.476e+05</td>\n",
              "</tr>\n",
              "<tr>\n",
              "  <th>Df Model:</th>              <td>    10</td>      <th>                     </th>      <td> </td>    \n",
              "</tr>\n",
              "<tr>\n",
              "  <th>Covariance Type:</th>      <td>nonrobust</td>    <th>                     </th>      <td> </td>    \n",
              "</tr>\n",
              "</table>\n",
              "<table class=\"simpletable\">\n",
              "<tr>\n",
              "             <td></td>               <th>coef</th>     <th>std err</th>      <th>t</th>      <th>P>|t|</th>  <th>[0.025</th>    <th>0.975]</th>  \n",
              "</tr>\n",
              "<tr>\n",
              "  <th>Intercept</th>              <td> 1.795e-09</td> <td> 9.97e-11</td> <td>   18.000</td> <td> 0.000</td> <td>  1.6e-09</td> <td> 1.99e-09</td>\n",
              "</tr>\n",
              "<tr>\n",
              "  <th>applicant_age[T.35-44]</th> <td> 7.865e-06</td> <td>    0.000</td> <td>    0.019</td> <td> 0.985</td> <td>   -0.001</td> <td>    0.001</td>\n",
              "</tr>\n",
              "<tr>\n",
              "  <th>applicant_age[T.45-54]</th> <td> 4.954e-05</td> <td>    0.000</td> <td>    0.113</td> <td> 0.910</td> <td>   -0.001</td> <td>    0.001</td>\n",
              "</tr>\n",
              "<tr>\n",
              "  <th>applicant_age[T.55-64]</th> <td>   -0.0010</td> <td>    0.000</td> <td>   -2.047</td> <td> 0.041</td> <td>   -0.002</td> <td>-4.36e-05</td>\n",
              "</tr>\n",
              "<tr>\n",
              "  <th>applicant_age[T.65-74]</th> <td>   -0.0137</td> <td>    0.001</td> <td>  -21.588</td> <td> 0.000</td> <td>   -0.015</td> <td>   -0.012</td>\n",
              "</tr>\n",
              "<tr>\n",
              "  <th>applicant_age[T.8888]</th>  <td>   -0.0019</td> <td>    0.000</td> <td>   -3.948</td> <td> 0.000</td> <td>   -0.003</td> <td>   -0.001</td>\n",
              "</tr>\n",
              "<tr>\n",
              "  <th>applicant_age[T.<25]</th>   <td> 3.087e-05</td> <td>    0.001</td> <td>    0.036</td> <td> 0.971</td> <td>   -0.002</td> <td>    0.002</td>\n",
              "</tr>\n",
              "<tr>\n",
              "  <th>applicant_age[T.>74]</th>   <td>   -0.0409</td> <td>    0.001</td> <td>  -38.723</td> <td> 0.000</td> <td>   -0.043</td> <td>   -0.039</td>\n",
              "</tr>\n",
              "<tr>\n",
              "  <th>census_tract</th>           <td> 4.162e-11</td> <td> 9.93e-15</td> <td> 4191.139</td> <td> 0.000</td> <td> 4.16e-11</td> <td> 4.16e-11</td>\n",
              "</tr>\n",
              "<tr>\n",
              "  <th>loan_amount</th>            <td> 2.331e-09</td> <td> 6.58e-10</td> <td>    3.540</td> <td> 0.000</td> <td> 1.04e-09</td> <td> 3.62e-09</td>\n",
              "</tr>\n",
              "<tr>\n",
              "  <th>property_value</th>         <td>-1.023e-09</td> <td> 3.89e-10</td> <td>   -2.629</td> <td> 0.009</td> <td>-1.79e-09</td> <td> -2.6e-10</td>\n",
              "</tr>\n",
              "<tr>\n",
              "  <th>tract_population</th>       <td> 9.163e-08</td> <td> 5.65e-08</td> <td>    1.623</td> <td> 0.105</td> <td> -1.9e-08</td> <td> 2.02e-07</td>\n",
              "</tr>\n",
              "</table>\n",
              "<table class=\"simpletable\">\n",
              "<tr>\n",
              "  <th>Omnibus:</th>       <td>229456.345</td> <th>  Durbin-Watson:     </th>   <td>   0.320</td>   \n",
              "</tr>\n",
              "<tr>\n",
              "  <th>Prob(Omnibus):</th>   <td> 0.000</td>   <th>  Jarque-Bera (JB):  </th> <td>983110566.682</td>\n",
              "</tr>\n",
              "<tr>\n",
              "  <th>Skew:</th>            <td>-21.688</td>  <th>  Prob(JB):          </th>   <td>    0.00</td>   \n",
              "</tr>\n",
              "<tr>\n",
              "  <th>Kurtosis:</th>        <td>481.742</td>  <th>  Cond. No.          </th>   <td>1.17e+16</td>   \n",
              "</tr>\n",
              "</table><br/><br/>Warnings:<br/>[1] Standard Errors assume that the covariance matrix of the errors is correctly specified.<br/>[2] The condition number is large, 1.17e+16. This might indicate that there are<br/>strong multicollinearity or other numerical problems."
            ],
            "text/plain": [
              "<class 'statsmodels.iolib.summary.Summary'>\n",
              "\"\"\"\n",
              "                            OLS Regression Results                            \n",
              "==============================================================================\n",
              "Dep. Variable:       reverse_mortgage   R-squared:                       0.020\n",
              "Model:                            OLS   Adj. R-squared:                  0.020\n",
              "Method:                 Least Squares   F-statistic:                     210.2\n",
              "Date:                Thu, 11 Nov 2021   Prob (F-statistic):               0.00\n",
              "Time:                        04:41:30   Log-Likelihood:             1.7384e+05\n",
              "No. Observations:              102108   AIC:                        -3.477e+05\n",
              "Df Residuals:                  102097   BIC:                        -3.476e+05\n",
              "Df Model:                          10                                         \n",
              "Covariance Type:            nonrobust                                         \n",
              "==========================================================================================\n",
              "                             coef    std err          t      P>|t|      [0.025      0.975]\n",
              "------------------------------------------------------------------------------------------\n",
              "Intercept               1.795e-09   9.97e-11     18.000      0.000     1.6e-09    1.99e-09\n",
              "applicant_age[T.35-44]  7.865e-06      0.000      0.019      0.985      -0.001       0.001\n",
              "applicant_age[T.45-54]  4.954e-05      0.000      0.113      0.910      -0.001       0.001\n",
              "applicant_age[T.55-64]    -0.0010      0.000     -2.047      0.041      -0.002   -4.36e-05\n",
              "applicant_age[T.65-74]    -0.0137      0.001    -21.588      0.000      -0.015      -0.012\n",
              "applicant_age[T.8888]     -0.0019      0.000     -3.948      0.000      -0.003      -0.001\n",
              "applicant_age[T.<25]    3.087e-05      0.001      0.036      0.971      -0.002       0.002\n",
              "applicant_age[T.>74]      -0.0409      0.001    -38.723      0.000      -0.043      -0.039\n",
              "census_tract            4.162e-11   9.93e-15   4191.139      0.000    4.16e-11    4.16e-11\n",
              "loan_amount             2.331e-09   6.58e-10      3.540      0.000    1.04e-09    3.62e-09\n",
              "property_value         -1.023e-09   3.89e-10     -2.629      0.009   -1.79e-09    -2.6e-10\n",
              "tract_population        9.163e-08   5.65e-08      1.623      0.105    -1.9e-08    2.02e-07\n",
              "==============================================================================\n",
              "Omnibus:                   229456.345   Durbin-Watson:                   0.320\n",
              "Prob(Omnibus):                  0.000   Jarque-Bera (JB):        983110566.682\n",
              "Skew:                         -21.688   Prob(JB):                         0.00\n",
              "Kurtosis:                     481.742   Cond. No.                     1.17e+16\n",
              "==============================================================================\n",
              "\n",
              "Warnings:\n",
              "[1] Standard Errors assume that the covariance matrix of the errors is correctly specified.\n",
              "[2] The condition number is large, 1.17e+16. This might indicate that there are\n",
              "strong multicollinearity or other numerical problems.\n",
              "\"\"\""
            ]
          },
          "metadata": {},
          "execution_count": 340
        }
      ]
    },
    {
      "cell_type": "code",
      "metadata": {
        "id": "uWa_CVl6UJ-q"
      },
      "source": [
        "#Train and Test Split"
      ],
      "execution_count": 341,
      "outputs": []
    },
    {
      "cell_type": "code",
      "metadata": {
        "id": "xqgGgP2QUfLV"
      },
      "source": [
        "lm1_train, lm1_test = train_test_split(RM, test_size = 0.2, random_state = 20211104, \n",
        "                               shuffle=True, stratify = RM['reverse_mortgage'])"
      ],
      "execution_count": 342,
      "outputs": []
    },
    {
      "cell_type": "code",
      "metadata": {
        "colab": {
          "base_uri": "https://localhost:8080/"
        },
        "id": "4tkWBtBkVIOO",
        "outputId": "f77165c9-cb02-41f4-ea96-71e0e7c0cbb3"
      },
      "source": [
        "lm1_train['reverse_mortgage'].value_counts()"
      ],
      "execution_count": 343,
      "outputs": [
        {
          "output_type": "execute_result",
          "data": {
            "text/plain": [
              "2    114609\n",
              "1       223\n",
              "Name: reverse_mortgage, dtype: int64"
            ]
          },
          "metadata": {},
          "execution_count": 343
        }
      ]
    },
    {
      "cell_type": "code",
      "metadata": {
        "colab": {
          "base_uri": "https://localhost:8080/"
        },
        "id": "O7aHnZbpVojJ",
        "outputId": "6a5f14de-6538-49c5-c67d-d37e019ed11d"
      },
      "source": [
        "lm1_train['applicant_age'].value_counts()"
      ],
      "execution_count": 344,
      "outputs": [
        {
          "output_type": "execute_result",
          "data": {
            "text/plain": [
              "35-44    28575\n",
              "25-34    24372\n",
              "45-54    21695\n",
              "55-64    14574\n",
              "8888     12081\n",
              "65-74     7836\n",
              "<25       3134\n",
              ">74       2565\n",
              "Name: applicant_age, dtype: int64"
            ]
          },
          "metadata": {},
          "execution_count": 344
        }
      ]
    },
    {
      "cell_type": "code",
      "metadata": {
        "colab": {
          "base_uri": "https://localhost:8080/"
        },
        "id": "ggcQODMYxO2w",
        "outputId": "96f30872-034c-458f-a220-dff66c595bc7"
      },
      "source": [
        "lm1_test['reverse_mortgage'].value_counts()"
      ],
      "execution_count": 345,
      "outputs": [
        {
          "output_type": "execute_result",
          "data": {
            "text/plain": [
              "2    28653\n",
              "1       56\n",
              "Name: reverse_mortgage, dtype: int64"
            ]
          },
          "metadata": {},
          "execution_count": 345
        }
      ]
    },
    {
      "cell_type": "code",
      "metadata": {
        "colab": {
          "base_uri": "https://localhost:8080/"
        },
        "id": "7xd8hrb6VoKq",
        "outputId": "1d9edac3-586d-4bd5-d0db-c634c531db46"
      },
      "source": [
        "lm1_test['reverse_mortgage'].value_counts() / len(lm1_test['reverse_mortgage'])"
      ],
      "execution_count": 346,
      "outputs": [
        {
          "output_type": "execute_result",
          "data": {
            "text/plain": [
              "2    0.998049\n",
              "1    0.001951\n",
              "Name: reverse_mortgage, dtype: float64"
            ]
          },
          "metadata": {},
          "execution_count": 346
        }
      ]
    },
    {
      "cell_type": "code",
      "metadata": {
        "id": "RMqn2WpbVnzL"
      },
      "source": [
        "#28 Fit Model  # here is where I switch to Tableau to better exemplify the predictive aspects of this data set regardin RM's"
      ],
      "execution_count": 347,
      "outputs": []
    },
    {
      "cell_type": "code",
      "metadata": {
        "id": "zn96N4pnVnaQ"
      },
      "source": [
        "#lm1 = smf.logit(\"reverse_mortgage ~ census_tract + loan_amount + applicant_age + property_value + tract_population\", data=lm1_train).fit()\n",
        "#Continuation point"
      ],
      "execution_count": 348,
      "outputs": []
    },
    {
      "cell_type": "code",
      "metadata": {
        "id": "LNFabH1YB8uj"
      },
      "source": [
        "#predict rm values using lm1_test, logit test, confusion matrix \"If needed\""
      ],
      "execution_count": 349,
      "outputs": []
    }
  ]
}